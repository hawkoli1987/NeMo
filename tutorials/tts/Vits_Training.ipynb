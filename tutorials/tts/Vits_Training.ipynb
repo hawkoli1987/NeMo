{
 "cells": [
  {
   "cell_type": "markdown",
   "metadata": {
    "id": "htbJiaJjYQAD"
   },
   "source": [
    "# VITS Training\n",
    "\n",
    "This notebook is designed to provide a guide on how to train VITS as part of the TTS pipeline. It contains the following sections\n",
    "\n",
    "  1. VITS and NeMo - An introduction to the VITS model\n",
    "  2. LJSpeech - How to train VITS on LJSpeech"
   ]
  },
  {
   "cell_type": "markdown",
   "metadata": {
    "id": "wqPMTEXXYUP4"
   },
   "source": [
    "# License\n",
    "\n",
    "> Copyright 2023, NVIDIA CORPORATION & AFFILIATES. All Rights Reserved.\n",
    "> \n",
    "> Licensed under the Apache License, Version 2.0 (the \"License\");\n",
    "> you may not use this file except in compliance with the License.\n",
    "> You may obtain a copy of the License at\n",
    "> \n",
    ">     http://www.apache.org/licenses/LICENSE-2.0\n",
    "> \n",
    "> Unless required by applicable law or agreed to in writing, software\n",
    "> distributed under the License is distributed on an \"AS IS\" BASIS,\n",
    "> WITHOUT WARRANTIES OR CONDITIONS OF ANY KIND, either express or implied.\n",
    "> See the License for the specific language governing permissions and\n",
    "> limitations under the License."
   ]
  },
  {
   "cell_type": "code",
   "execution_count": 1,
   "metadata": {
    "id": "SUkq9HAvYU7T"
   },
   "outputs": [
    {
     "name": "stderr",
     "output_type": "stream",
     "text": [
      "'wget' is not recognized as an internal or external command,\n",
      "operable program or batch file.\n"
     ]
    },
    {
     "name": "stderr",
     "output_type": "stream",
     "text": [
      "/bin/bash: install_pynini.sh: No such file or directory\n"
     ]
    },
    {
     "data": {
      "text/plain": [
       "'\\nRemember to restart the runtime for the kernel to pick up any upgraded packages (e.g. matplotlib)!\\nAlternatively, you can uncomment the exit() below to crash and restart the kernel, in the case\\nthat you want to use the \"Run All Cells\" (or similar) option.\\n'"
      ]
     },
     "execution_count": 1,
     "metadata": {},
     "output_type": "execute_result"
    }
   ],
   "source": [
    "\"\"\"\n",
    "You can run either this notebook locally (if you have all the dependencies and a GPU) or on Google Colab.\n",
    "\n",
    "Instructions for setting up Colab are as follows:\n",
    "1. Open a new Python 3 notebook.\n",
    "2. Import this notebook from GitHub (File -> Upload Notebook -> \"GITHUB\" tab -> copy/paste GitHub URL).\n",
    "3. Connect to an instance with a GPU (Runtime -> Change runtime type -> select \"GPU\" for hardware accelerator).\n",
    "4. Run this cell to set up dependencies.\n",
    "5. Restart the runtime (Runtime -> Restart Runtime) for any upgraded packages to take effect.\n",
    "\"\"\"\n",
    "\n",
    "# If you're using Google Colab and not running locally, run this cell.\n",
    "\n",
    "## Install dependencies\n",
    "# !apt-get install sox libsndfile1 ffmpeg\n",
    "# !pip install wget text-unidecode matplotlib>=3.3.2\n",
    "\n",
    "## Install NeMo\n",
    "BRANCH = 'main'\n",
    "# !python -m pip install \"git+https://github.com/NVIDIA/NeMo.git@${BRANCH}#egg=nemo_toolkit[all]\"\n",
    "\n",
    "# Install pynini\n",
    "!wget https://raw.githubusercontent.com/NVIDIA/NeMo/$BRANCH/nemo_text_processing/install_pynini.sh\n",
    "!bash install_pynini.sh\n",
    "\n",
    "\"\"\"\n",
    "Remember to restart the runtime for the kernel to pick up any upgraded packages (e.g. matplotlib)!\n",
    "Alternatively, you can uncomment the exit() below to crash and restart the kernel, in the case\n",
    "that you want to use the \"Run All Cells\" (or similar) option.\n",
    "\"\"\"\n",
    "# exit()"
   ]
  },
  {
   "cell_type": "markdown",
   "metadata": {
    "id": "ZivXzmq0YYLj"
   },
   "source": [
    "# VITS and NeMo\n",
    "\n",
    "VITS is a neural network that converts text characters into an audio sample. For more details on the model, please refer to Nvidia's [VITS Model Card](https://catalog.ngc.nvidia.com/orgs/nvidia/teams/nemo/models/tts_en_lj_vits), or the original [paper](https://arxiv.org/abs/2106.06103).\n",
    "\n",
    "VITS like most NeMo models are defined as a LightningModule, allowing for easy training via PyTorch Lightning, and parameterized by a configuration, currently defined via a yaml file and loading using Hydra.\n",
    "\n",
    "Let's take a look using NeMo's pretrained model and how to use it to generate spectrograms."
   ]
  },
  {
   "cell_type": "code",
   "execution_count": 3,
   "metadata": {
    "id": "HEvdSU5WYZbj"
   },
   "outputs": [
    {
     "name": "stdout",
     "output_type": "stream",
     "text": [
      "[PretrainedModelInfo(\n",
      "\tpretrained_model_name=tts_en_lj_vits,\n",
      "\tdescription=This model is trained on LJSpeech audio sampled at 22050Hz. This model has been tested on generating female English voices with an American accent.,\n",
      "\tlocation=https://api.ngc.nvidia.com/v2/models/nvidia/nemo/tts_en_lj_vits/versions/1.13.0/files/vits_ljspeech_fp16_full.nemo,\n",
      "\tclass_=<class 'nemo.collections.tts.models.vits.VitsModel'>\n",
      "), PretrainedModelInfo(\n",
      "\tpretrained_model_name=tts_en_hifitts_vits,\n",
      "\tdescription=This model is trained on HiFITTS sampled at 44100Hz with and can be used to generate male and female English voices with an American accent.,\n",
      "\tlocation=https://api.ngc.nvidia.com/v2/models/nvidia/nemo/tts_en_hifitts_vits/versions/r1.15.0/files/vits_en_hifitts.nemo,\n",
      "\tclass_=<class 'nemo.collections.tts.models.vits.VitsModel'>\n",
      ")]\n"
     ]
    }
   ],
   "source": [
    "# Load the VITSModel\n",
    "\n",
    "from nemo.collections.tts.models import VitsModel\n",
    "from nemo.collections.tts.models.base import TextToWaveform\n",
    "\n",
    "# Let's see what pretrained models are available\n",
    "print(VitsModel.list_available_models())"
   ]
  },
  {
   "cell_type": "code",
   "execution_count": 4,
   "metadata": {
    "id": "3W8unatgYbUp"
   },
   "outputs": [
    {
     "name": "stdout",
     "output_type": "stream",
     "text": [
      "[NeMo I 2023-08-31 10:21:32 cloud:68] Downloading from: https://api.ngc.nvidia.com/v2/models/nvidia/nemo/tts_en_lj_vits/versions/1.13.0/files/vits_ljspeech_fp16_full.nemo to C:\\Users\\Yuli\\.cache\\torch\\NeMo\\NeMo_1.20.0rc0\\vits_ljspeech_fp16_full\\aafc8db3ad2124ec6f77d4d20f3fddaf\\vits_ljspeech_fp16_full.nemo\n",
      "[NeMo I 2023-08-31 10:22:09 common:913] Instantiating model from pre-trained checkpoint\n"
     ]
    },
    {
     "name": "stderr",
     "output_type": "stream",
     "text": [
      "[NeMo W 2023-08-31 10:22:39 deprecated:63] Function ``g2p_backward_compatible_support`` is deprecated. But it will not be removed until a further notice. G2P object root directory `nemo_text_processing.g2p` has been replaced with `nemo.collections.tts.g2p`. Please use the latter instead as of NeMo 1.18.0.\n",
      "[NeMo W 2023-08-31 10:22:39 experimental:26] `<class 'nemo.collections.tts.g2p.models.i18n_ipa.IpaG2p'>` is experimental and not ready for production yet. Use at your own risk.\n",
      "[NeMo W 2023-08-31 10:22:41 i18n_ipa:124] apply_to_oov_word=None, This means that some of words will remain unchanged if they are not handled by any of the rules in self.parse_one_word(). This may be intended if phonemes and chars are both valid inputs, otherwise, you may see unexpected deletions in your input.\n",
      "[NeMo W 2023-08-31 10:22:41 experimental:26] `<class 'nemo.collections.common.tokenizers.text_to_speech.tts_tokenizers.IPATokenizer'>` is experimental and not ready for production yet. Use at your own risk.\n",
      "[NeMo W 2023-08-31 10:22:41 modelPT:161] If you intend to do training or fine-tuning, please call the ModelPT.setup_training_data() method and provide a valid configuration file to setup the train data loader.\n",
      "    Train config : \n",
      "    dataset:\n",
      "      _target_: nemo.collections.tts.torch.data.TTSDataset\n",
      "      manifest_filepath: /raid/datasets/tts_data/train_manifest.json\n",
      "      sample_rate: 22050\n",
      "      sup_data_path: null\n",
      "      sup_data_types: null\n",
      "      n_fft: 1024\n",
      "      win_length: 1024\n",
      "      hop_length: 256\n",
      "      window: hann\n",
      "      n_mels: 80\n",
      "      lowfreq: 0\n",
      "      highfreq: null\n",
      "      max_duration: null\n",
      "      min_duration: 0.1\n",
      "      ignore_file: null\n",
      "      trim: false\n",
      "      pitch_fmin: 65.40639132514966\n",
      "      pitch_fmax: 2093.004522404789\n",
      "    dataloader_params:\n",
      "      num_workers: 8\n",
      "      pin_memory: false\n",
      "    batch_sampler:\n",
      "      batch_size: 32\n",
      "      boundaries:\n",
      "      - 32\n",
      "      - 300\n",
      "      - 400\n",
      "      - 500\n",
      "      - 600\n",
      "      - 700\n",
      "      - 800\n",
      "      - 900\n",
      "      - 1000\n",
      "      num_replicas: 8\n",
      "      shuffle: true\n",
      "    \n",
      "[NeMo W 2023-08-31 10:22:41 modelPT:168] If you intend to do validation, please call the ModelPT.setup_validation_data() or ModelPT.setup_multiple_validation_data() method and provide a valid configuration file to setup the validation data loader(s). \n",
      "    Validation config : \n",
      "    dataset:\n",
      "      _target_: nemo.collections.tts.torch.data.TTSDataset\n",
      "      manifest_filepath: /raid/datasets/tts_data/val_manifest.json\n",
      "      sample_rate: 22050\n",
      "      sup_data_path: null\n",
      "      sup_data_types: null\n",
      "      n_fft: 1024\n",
      "      win_length: 1024\n",
      "      hop_length: 256\n",
      "      window: hann\n",
      "      n_mels: 80\n",
      "      lowfreq: 0\n",
      "      highfreq: null\n",
      "      max_duration: null\n",
      "      min_duration: 0.1\n",
      "      ignore_file: null\n",
      "      trim: false\n",
      "      pitch_fmin: 65.40639132514966\n",
      "      pitch_fmax: 2093.004522404789\n",
      "    dataloader_params:\n",
      "      drop_last: false\n",
      "      shuffle: false\n",
      "      batch_size: 16\n",
      "      num_workers: 4\n",
      "      pin_memory: false\n",
      "    \n"
     ]
    },
    {
     "name": "stdout",
     "output_type": "stream",
     "text": [
      "[NeMo I 2023-08-31 10:22:41 features:289] PADDING: 1\n",
      "[NeMo I 2023-08-31 10:22:41 features:297] STFT using exact pad\n",
      "[NeMo I 2023-08-31 10:22:43 save_restore_connector:249] Model VitsModel was successfully restored from C:\\Users\\Yuli\\.cache\\torch\\NeMo\\NeMo_1.20.0rc0\\vits_ljspeech_fp16_full\\aafc8db3ad2124ec6f77d4d20f3fddaf\\vits_ljspeech_fp16_full.nemo.\n"
     ]
    }
   ],
   "source": [
    "# We can load the pre-trained model as follows\n",
    "model = VitsModel.from_pretrained(\"tts_en_lj_vits\")"
   ]
  },
  {
   "cell_type": "code",
   "execution_count": 5,
   "metadata": {},
   "outputs": [],
   "source": [
    "# VITS is a TextToWaveform\n",
    "assert isinstance(model, TextToWaveform)"
   ]
  },
  {
   "cell_type": "markdown",
   "metadata": {},
   "source": [
    "TextToWaveform in NeMo have two helper functions:\n",
    "   1. ```python\n",
    "      parse(self, str_input: str),\n",
    "      ``` \n",
    "      which takes an English string and produces a token tensor\n",
    "\n",
    "\n",
    "\n",
    "   2. ```python\n",
    "      convert_text_to_waveform(self, *, tokens),\n",
    "      ```\n",
    "      which takes the token tensor and generates an audio sample\n",
    "Let's try it out"
   ]
  },
  {
   "cell_type": "markdown",
   "metadata": {
    "id": "zZ90eCfdrNIf"
   },
   "source": [
    "# Training\n",
    "\n",
    "Now that we looked at the VITS model, let's see how to train a VITS Model\n",
    "\n"
   ]
  },
  {
   "cell_type": "code",
   "execution_count": 6,
   "metadata": {
    "id": "7rHG-LERrPRY"
   },
   "outputs": [
    {
     "name": "stderr",
     "output_type": "stream",
     "text": [
      "'wget' is not recognized as an internal or external command,\n",
      "operable program or batch file.\n",
      "'wget' is not recognized as an internal or external command,\n",
      "operable program or batch file.\n",
      "A subdirectory or file -p already exists.\n",
      "Error occurred while processing: -p.\n"
     ]
    }
   ],
   "source": [
    "# NeMo's training scripts are stored inside the examples/ folder. Let's grab the vits.py file\n",
    "# as well as the vits.yaml file\n",
    "!wget https://raw.githubusercontent.com/NVIDIA/NeMo/$BRANCH/examples/tts/vits.py\n",
    "!(mkdir -p conf \\\n",
    "  && cd conf \\\n",
    "  && wget https://raw.githubusercontent.com/NVIDIA/NeMo/$BRANCH/examples/tts/conf/vits.yaml \\\n",
    "  && cd ..)\n",
    "\n",
    "# additional files\n",
    "!mkdir -p tts_dataset_files && cd tts_dataset_files \\\n",
    "&& wget https://raw.githubusercontent.com/NVIDIA/NeMo/$BRANCH/scripts/tts_dataset_files/ipa_cmudict-0.7b_nv23.01.txt \\\n",
    "&& wget https://raw.githubusercontent.com/NVIDIA/NeMo/$BRANCH/scripts/tts_dataset_files/heteronyms-052722 \\\n",
    "&& cd ..\n",
    "        "
   ]
  },
  {
   "cell_type": "markdown",
   "metadata": {
    "id": "Upv_LxBIsC51"
   },
   "source": [
    "Let's take a look at the vits.py file\n",
    "\n",
    "```python\n",
    "import pytorch_lightning as pl\n",
    "\n",
    "from nemo.collections.tts.models.vits import VitsModel\n",
    "from nemo.core.config import hydra_runner\n",
    "from nemo.utils.exp_manager import exp_manager\n",
    "\n",
    "# hydra_runner is a thin NeMo wrapper around Hydra\n",
    "# It looks for a config named vits.yaml inside the conf folder\n",
    "# Hydra parses the yaml and returns it as a Omegaconf DictConfig\n",
    "@hydra_runner(config_path=\"conf\", config_name=\"vits\")\n",
    "def main(cfg):\n",
    "    # Define the Lightning trainer\n",
    "    trainer = pl.Trainer(replace_sampler_ddp=False, **cfg.trainer)\n",
    "    # exp_manager is a NeMo construct that helps with logging and checkpointing\n",
    "    exp_manager(trainer, cfg.get(\"exp_manager\", None))\n",
    "    # Define the VITS model, this will construct the model\n",
    "    model = VitsModel(cfg=cfg.model, trainer=trainer)\n",
    "    # Let's add a few more callbacks\n",
    "    trainer.callbacks.extend([pl.callbacks.LearningRateMonitor()])\n",
    "    # Call lightning trainer's fit() to train the model\n",
    "    trainer.fit(model)\n",
    "\n",
    "\n",
    "if __name__ == '__main__':\n",
    "    main()  # noqa pylint: disable=no-value-for-parameter\n",
    "```"
   ]
  },
  {
   "cell_type": "markdown",
   "metadata": {
    "id": "6nM-fZO-s75u"
   },
   "source": [
    "Let's take a look at the yaml config\n",
    "\n",
    "```yaml\n",
    "name: &name VITS\n",
    "\n",
    "train_dataset: ???\n",
    "validation_datasets: ???\n",
    "sup_data_path: null\n",
    "sup_data_types: null\n",
    "\n",
    "phoneme_dict_path: \"scripts/tts_dataset_files/ipa_cmudict-0.7b_nv23.01.txt\"\n",
    "heteronyms_path: \"scripts/tts_dataset_files/heteronyms-052722\"\n",
    "```\n",
    "\n",
    "The first part of the yaml defines dataset parameters used by VITS. Then in the head of 'model' section there are processing - related parameters. You can see\n",
    "that the sample rate is set to 22050 for LJSpeech. \n",
    "\n",
    "Looking at the yaml, there is `train_dataset: ???` and `validation_datasets: ???`. The ??? indicates to hydra that these values must be passed via the command line or the script will fail.\n",
    "\n",
    "Looking further down the yaml, we get to the pytorch lightning trainer parameters.\n",
    "\n",
    "```yaml\n",
    "trainer:\n",
    "  num_nodes: 1\n",
    "  devices: 2\n",
    "  accelerator: gpu\n",
    "  strategy: ddp\n",
    "  precision: 32\n",
    "  max_epochs: -1\n",
    "  accumulate_grad_batches: 1\n",
    "  enable_checkpointing: false # Provided by exp_manager\n",
    "  logger: false # Provided by exp_manager\n",
    "  log_every_n_steps: 50\n",
    "  check_val_every_n_epoch: 1\n",
    "```\n",
    "\n",
    "These values can be changed either by editing the yaml or through the command line.\n",
    "\n",
    "Let's grab some simple audio data and test VITS."
   ]
  },
  {
   "cell_type": "code",
   "execution_count": null,
   "metadata": {
    "id": "GnEzODcorugt"
   },
   "outputs": [],
   "source": [
    "!wget https://github.com/NVIDIA/NeMo/releases/download/v0.11.0/test_data.tar.gz \\\n",
    "&& mkdir -p tests/data \\\n",
    "&& tar xzf test_data.tar.gz -C tests/data\n",
    "\n",
    "# Just like ASR, the VITS require .json files to define the training and validation data.\n",
    "!cat tests/data/asr/an4_val.json"
   ]
  },
  {
   "cell_type": "markdown",
   "metadata": {},
   "source": [
    "Now that we have some sample data, we can try training VITS!\n",
    "\n",
    "Note that the sample data is not enough data to fully train a VITS model. The following code uses a toy dataset to illustrate how the pipeline for training would work."
   ]
  },
  {
   "cell_type": "code",
   "execution_count": 8,
   "metadata": {},
   "outputs": [
    {
     "name": "stdout",
     "output_type": "stream",
     "text": [
      "[NeMo I 2023-08-31 10:40:21 exp_manager:374] Experiments will be logged at d:\\Books\\2021 New Chapter\\CodeGit\\NeMo\\tutorials\\tts\\nemo_experiments\\VITS\\2023-08-31_10-40-21\n",
      "[NeMo I 2023-08-31 10:40:21 exp_manager:797] TensorboardLogger has been set up\n",
      "Creating ClassifyFst grammars.\n",
      "[NeMo I 2023-08-31 10:40:53 dataset:228] Loading dataset from tests/data/asr/an4_train.json.\n",
      "[NeMo I 2023-08-31 10:40:53 dataset:266] Loaded dataset with 30 files.\n",
      "[NeMo I 2023-08-31 10:40:53 dataset:268] Dataset contains 0.02 hours.\n",
      "[NeMo I 2023-08-31 10:40:53 dataset:376] Pruned 0 files. Final dataset contains 30 files\n",
      "[NeMo I 2023-08-31 10:40:53 dataset:378] Pruned 0.00 hours. Final dataset contains 0.02 hours.\n",
      "[NeMo I 2023-08-31 10:40:53 dataset:228] Loading dataset from tests/data/asr/an4_val.json.\n",
      "[NeMo I 2023-08-31 10:40:53 dataset:266] Loaded dataset with 10 files.\n",
      "[NeMo I 2023-08-31 10:40:53 dataset:268] Dataset contains 0.01 hours.\n",
      "[NeMo I 2023-08-31 10:40:53 dataset:376] Pruned 0 files. Final dataset contains 10 files\n",
      "[NeMo I 2023-08-31 10:40:53 dataset:378] Pruned 0.00 hours. Final dataset contains 0.01 hours.\n",
      "[NeMo I 2023-08-31 10:40:53 features:289] PADDING: 1\n",
      "[NeMo I 2023-08-31 10:40:53 features:297] STFT using exact pad\n"
     ]
    },
    {
     "name": "stderr",
     "output_type": "stream",
     "text": [
      "[NeMo W 2023-08-31 10:40:21 nemo_logging:349] c:\\Users\\Yuli\\anaconda3\\envs\\nemo\\lib\\site-packages\\hydra\\_internal\\hydra.py:119: UserWarning: Future Hydra versions will no longer change working directory at job runtime by default.\n",
      "    See https://hydra.cc/docs/next/upgrades/1.1_to_1.2/changes_to_job_working_dir/ for more information.\n",
      "      ret = run_job(\n",
      "    \n",
      "GPU available: True (cuda), used: True\n",
      "TPU available: False, using: 0 TPU cores\n",
      "IPU available: False, using: 0 IPUs\n",
      "HPU available: False, using: 0 HPUs\n",
      "[NeMo W 2023-08-31 10:40:22 experimental:26] `<class 'nemo.collections.tts.models.vits.VitsModel'>` is experimental and not ready for production yet. Use at your own risk.\n",
      "[NeMo W 2023-08-31 10:40:51 experimental:26] `<class 'nemo.collections.tts.g2p.models.i18n_ipa.IpaG2p'>` is experimental and not ready for production yet. Use at your own risk.\n",
      "[NeMo W 2023-08-31 10:40:52 i18n_ipa:124] apply_to_oov_word=None, This means that some of words will remain unchanged if they are not handled by any of the rules in self.parse_one_word(). This may be intended if phonemes and chars are both valid inputs, otherwise, you may see unexpected deletions in your input.\n",
      "[NeMo W 2023-08-31 10:40:52 experimental:26] `<class 'nemo.collections.common.tokenizers.text_to_speech.tts_tokenizers.IPATokenizer'>` is experimental and not ready for production yet. Use at your own risk.\n",
      "\n",
      "0it [00:00, ?it/s]\n",
      "27it [00:00, 269.42it/s]\n",
      "30it [00:00, 281.63it/s]\n",
      "\n",
      "0it [00:00, ?it/s]\n",
      "10it [00:00, 499.42it/s]\n",
      "Initializing distributed: GLOBAL_RANK: 0, MEMBER: 1/1\n",
      "[W C:\\cb\\pytorch_1000000000000\\work\\torch\\csrc\\distributed\\c10d\\socket.cpp:601] [c10d] The client socket has failed to connect to [kubernetes.docker.internal]:53230 (system error: 10049 - The requested address is not valid in its context.).\n",
      "[W C:\\cb\\pytorch_1000000000000\\work\\torch\\csrc\\distributed\\c10d\\socket.cpp:601] [c10d] The client socket has failed to connect to [kubernetes.docker.internal]:53230 (system error: 10049 - The requested address is not valid in its context.).\n",
      "Error executing job with overrides: ['model.sample_rate=22050', 'train_dataset=tests/data/asr/an4_train.json', 'validation_datasets=tests/data/asr/an4_val.json', 'phoneme_dict_path=tts_dataset_files/ipa_cmudict-0.7b_nv23.01.txt', 'heteronyms_path=tts_dataset_files/heteronyms-052722.txt', 'trainer.max_epochs=3', 'trainer.accelerator=gpu', 'trainer.check_val_every_n_epoch=1', 'trainer.devices=1']\n",
      "\n",
      "Traceback (most recent call last):\n",
      "  File \"vits.py\", line 29, in main\n",
      "    trainer.fit(model)\n",
      "  File \"c:\\Users\\Yuli\\anaconda3\\envs\\nemo\\lib\\site-packages\\pytorch_lightning\\trainer\\trainer.py\", line 608, in fit\n",
      "    call._call_and_handle_interrupt(\n",
      "  File \"c:\\Users\\Yuli\\anaconda3\\envs\\nemo\\lib\\site-packages\\pytorch_lightning\\trainer\\call.py\", line 36, in _call_and_handle_interrupt\n",
      "    return trainer.strategy.launcher.launch(trainer_fn, *args, trainer=trainer, **kwargs)\n",
      "  File \"c:\\Users\\Yuli\\anaconda3\\envs\\nemo\\lib\\site-packages\\pytorch_lightning\\strategies\\launchers\\subprocess_script.py\", line 88, in launch\n",
      "    return function(*args, **kwargs)\n",
      "  File \"c:\\Users\\Yuli\\anaconda3\\envs\\nemo\\lib\\site-packages\\pytorch_lightning\\trainer\\trainer.py\", line 650, in _fit_impl\n",
      "    self._run(model, ckpt_path=self.ckpt_path)\n",
      "  File \"c:\\Users\\Yuli\\anaconda3\\envs\\nemo\\lib\\site-packages\\pytorch_lightning\\trainer\\trainer.py\", line 1048, in _run\n",
      "    self.strategy.setup_environment()\n",
      "  File \"c:\\Users\\Yuli\\anaconda3\\envs\\nemo\\lib\\site-packages\\pytorch_lightning\\strategies\\ddp.py\", line 152, in setup_environment\n",
      "    self.setup_distributed()\n",
      "  File \"c:\\Users\\Yuli\\anaconda3\\envs\\nemo\\lib\\site-packages\\pytorch_lightning\\strategies\\ddp.py\", line 203, in setup_distributed\n",
      "    _init_dist_connection(self.cluster_environment, self._process_group_backend, timeout=self._timeout)\n",
      "  File \"c:\\Users\\Yuli\\anaconda3\\envs\\nemo\\lib\\site-packages\\lightning_fabric\\utilities\\distributed.py\", line 245, in _init_dist_connection\n",
      "    torch.distributed.init_process_group(torch_distributed_backend, rank=global_rank, world_size=world_size, **kwargs)\n",
      "  File \"c:\\Users\\Yuli\\anaconda3\\envs\\nemo\\lib\\site-packages\\torch\\distributed\\distributed_c10d.py\", line 907, in init_process_group\n",
      "    default_pg = _new_process_group_helper(\n",
      "  File \"c:\\Users\\Yuli\\anaconda3\\envs\\nemo\\lib\\site-packages\\torch\\distributed\\distributed_c10d.py\", line 1013, in _new_process_group_helper\n",
      "    raise RuntimeError(\"Distributed package doesn't have NCCL \" \"built in\")\n",
      "RuntimeError: Distributed package doesn't have NCCL built in\n",
      "\n",
      "Set the environment variable HYDRA_FULL_ERROR=1 for a complete stack trace.\n"
     ]
    }
   ],
   "source": [
    "!(python vits.py \\\n",
    "  model.sample_rate=22050 \\\n",
    "  train_dataset=tests/data/asr/an4_train.json \\\n",
    "  validation_datasets=tests/data/asr/an4_val.json \\\n",
    "  phoneme_dict_path=tts_dataset_files/ipa_cmudict-0.7b_nv23.01.txt \\\n",
    "  heteronyms_path=tts_dataset_files/heteronyms-052722.txt \\\n",
    "  trainer.max_epochs=3 \\\n",
    "  trainer.accelerator=None \\\n",
    "  trainer.check_val_every_n_epoch=1 \\\n",
    "  trainer.devices=1)"
   ]
  },
  {
   "cell_type": "markdown",
   "metadata": {
    "id": "9erGDGZJ1H_p"
   },
   "source": [
    "# Training Data\n",
    "\n",
    "In order to train VITS, it is highly recommended to obtain high quality speech data with the following properties:\n",
    "  - Sampling rate of 22050Hz or higher\n",
    "  - Speech should contain a variety of speech phonemes\n",
    "  - Audio split into segments of 1-10 seconds\n",
    "  - Audio segments should not have silence at the beginning and end\n",
    "  - Audio segments should not contain long silences inside\n",
    "\n",
    "After obtaining the speech data and splitting into training, validation, and test sections, it is required to construct .json files to tell NeMo where to find these audio files.\n",
    "\n",
    "The .json files should adhere to the format required by the `nemo.collections.tts.data.dataset.TTSDataset` class. For example, here is a sample .json file\n",
    "\n",
    "```json\n",
    "{\"audio_filepath\": \"/path/to/audio1.wav\", \"text\": \"the transcription\", \"duration\": 0.82}\n",
    "{\"audio_filepath\": \"/path/to/audio2.wav\", \"text\": \"the other transcription\", \"duration\": 2.1}\n",
    "...\n",
    "```\n",
    "Please note that the duration is in seconds.\n"
   ]
  },
  {
   "cell_type": "markdown",
   "metadata": {},
   "source": [
    "## Evaluating VITS\n",
    "\n",
    "Let's evaluate the quality of the VITS model.\n",
    "\n",
    "VITS is end-to-end model, so we don't need any additional models to generate audios."
   ]
  },
  {
   "cell_type": "code",
   "execution_count": null,
   "metadata": {},
   "outputs": [],
   "source": [
    "!wget https://multilangaudiosamples.s3.us-east-2.amazonaws.com/LJ023-0089.wav"
   ]
  },
  {
   "cell_type": "code",
   "execution_count": null,
   "metadata": {},
   "outputs": [],
   "source": [
    "from matplotlib.pyplot import imshow\n",
    "from matplotlib import pyplot as plt\n",
    "import IPython.display as ipd\n",
    "import numpy as np\n",
    "import torch\n",
    "import librosa\n",
    "import soundfile as sf\n",
    "\n",
    "target_sr = 22050\n",
    "\n",
    "audio_path = \"./LJ023-0089.wav\"\n",
    "text_raw = \"That is not only my accusation.\"\n",
    "\n",
    "\n",
    "audio_data, orig_sr = sf.read(audio_path)\n",
    "if orig_sr != target_sr:\n",
    "    audio_data = librosa.core.resample(audio_data, orig_sr=orig_sr, target_sr=target_sr)\n",
    "\n",
    "# Let's double-check that everything matches up!\n",
    "print(f\"Duration (s): {len(audio_data)/target_sr}\")\n",
    "print(\"Transcript:\", text_raw)\n",
    "ipd.Audio(audio_data, rate=target_sr)"
   ]
  },
  {
   "cell_type": "code",
   "execution_count": null,
   "metadata": {},
   "outputs": [],
   "source": [
    "model = VitsModel.from_pretrained(\"tts_en_lj_vits\").cpu().eval()"
   ]
  },
  {
   "cell_type": "code",
   "execution_count": null,
   "metadata": {},
   "outputs": [],
   "source": [
    "tokens = model.parse(text_raw)\n",
    "audio_pred = model.convert_text_to_waveform(tokens=tokens).cpu().detach().numpy()\n",
    "\n",
    "print(\"predicted audio\")\n",
    "ipd.Audio(audio_pred, rate=target_sr)"
   ]
  },
  {
   "cell_type": "code",
   "execution_count": null,
   "metadata": {},
   "outputs": [],
   "source": [
    "audio_to_mel = model.audio_to_melspec_processor\n",
    "\n",
    "\n",
    "len_audio = torch.tensor(len(audio_data)).view(1, -1)\n",
    "\n",
    "spec_pred, _ = audio_to_mel(torch.tensor(audio_pred).view(1, -1), len_audio)\n",
    "spec_orig, _ = audio_to_mel(torch.tensor(audio_data).view(1, -1), len_audio)"
   ]
  },
  {
   "cell_type": "code",
   "execution_count": null,
   "metadata": {},
   "outputs": [],
   "source": [
    "fig, ax = plt.subplots(1, 2)\n",
    "\n",
    "ax[0].imshow(spec_orig[0][0].cpu().detach())\n",
    "ax[1].imshow(spec_pred[0][0].cpu().detach())\n",
    "\n",
    "ax[0].set_title('Original spectrogram')\n",
    "ax[1].set_title('Predicted spectrogram')\n",
    "fig.show()"
   ]
  }
 ],
 "metadata": {
  "accelerator": "GPU",
  "colab": {
   "collapsed_sections": [],
   "name": "Vits.ipynb",
   "provenance": []
  },
  "kernelspec": {
   "display_name": "nemo",
   "language": "python",
   "name": "nemo"
  },
  "language_info": {
   "codemirror_mode": {
    "name": "ipython",
    "version": 3
   },
   "file_extension": ".py",
   "mimetype": "text/x-python",
   "name": "python",
   "nbconvert_exporter": "python",
   "pygments_lexer": "ipython3",
   "version": "3.8.10"
  }
 },
 "nbformat": 4,
 "nbformat_minor": 1
}
